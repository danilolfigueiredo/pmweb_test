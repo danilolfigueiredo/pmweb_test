{
 "cells": [
  {
   "cell_type": "code",
   "execution_count": 1,
   "id": "6bcd01eb",
   "metadata": {},
   "outputs": [],
   "source": [
    "import pandas as pd\n",
    "import numpy as np\n",
    "from unidecode import unidecode\n",
    "import re\n",
    "#from dataprep.eda import creat_report"
   ]
  },
  {
   "cell_type": "code",
   "execution_count": 2,
   "id": "799850be",
   "metadata": {},
   "outputs": [],
   "source": [
    "ds_total = pd.read_csv(\"natal2021.csv\") #load dataset"
   ]
  },
  {
   "cell_type": "code",
   "execution_count": 3,
   "id": "d9c90c8e",
   "metadata": {},
   "outputs": [],
   "source": [
    "for i in range(int(ds_total['CUSTOMER_ID'].count()/1000)): ##Processar de 1000 em 1000 registros\n",
    "    ds = ds_total.iloc[i * 1000:i * 1000 + 1000] #Criação de tabela com os 1000 registros a processar\n",
    "    ds = ds.assign(CITY_ASCII=np.nan) #Criação da coluna CITY_ASCII\n",
    "    \n",
    "    for index, row in ds.iterrows(): #varredura dos registros \n",
    "        ds.loc[index, 'CUSTOMER_ID'] = str.strip(row['CUSTOMER_ID'])#Remove espaços CUSTOMER_ID\n",
    "        ds.loc[index, 'CITY'] = str.strip(row['CITY'])#Remove espaços CITY\n",
    "        ds.loc[index, 'PHONE'] = str.strip(row['PHONE'])#Remove espaços PHONE\n",
    "        \n",
    "        ds.loc[index, 'CITY_ASCII'] = unidecode(row['CITY']).upper()#codifica caracteres para ASCII e os deixa maiúsculos\n",
    "        \n",
    "        ds.loc[index, 'PHONE'] = re.sub('[^0-9]','',row['PHONE'])#Remove caracteres não numéricos de PHONE\n",
    "    \n",
    "    \n",
    "    ds.to_csv('out '+str(i)+ '.csv', index = False, encoding='utf-8') #Cria arquivo output referente aos 1000 registros em utf-8"
   ]
  }
 ],
 "metadata": {
  "kernelspec": {
   "display_name": "Python 3 (ipykernel)",
   "language": "python",
   "name": "python3"
  },
  "language_info": {
   "codemirror_mode": {
    "name": "ipython",
    "version": 3
   },
   "file_extension": ".py",
   "mimetype": "text/x-python",
   "name": "python",
   "nbconvert_exporter": "python",
   "pygments_lexer": "ipython3",
   "version": "3.10.1"
  }
 },
 "nbformat": 4,
 "nbformat_minor": 5
}
