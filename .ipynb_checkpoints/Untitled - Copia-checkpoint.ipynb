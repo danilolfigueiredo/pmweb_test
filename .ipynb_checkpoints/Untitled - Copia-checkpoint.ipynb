{
 "cells": [
  {
   "cell_type": "code",
   "execution_count": 1,
   "id": "dd3267f0",
   "metadata": {},
   "outputs": [],
   "source": [
    "#1. Identificar o encoding do arquivo;\n",
    "\n",
    "#2. Processar o arquivo de 1000 em 1000 linhas;\n",
    "\n",
    "#3. Remover os espaços das colunas. Ex. ' Porto Alegre ' -> 'Porto Alegre'; FEITO\n",
    "\n",
    "#4. Criar uma coluna CITY_ASCII no arquivo, a qual deve ser construída com \n",
    "#base na coluna CITY. Esta coluna não pode conter acentos, minúsculas e\n",
    "#caracteres especiais. Apenas letras, números e hífen são permitidos. Ex. 'São\n",
    "#Paulo - abç' -> 'SAO PAULO - ABC' FEITO\n",
    "\n",
    "#5. Remover os caracteres não numéricos da coluna PHONE; FEITO\n",
    "\n",
    "#6. Salvar o arquivo .csv com a nova coluna em UTF-8; FEITO\n",
    "\n",
    "###Extra, paralelizar o processamento de 1.000 em 1.000 linhas"
   ]
  },
  {
   "cell_type": "code",
   "execution_count": 2,
   "id": "6bcd01eb",
   "metadata": {},
   "outputs": [],
   "source": [
    "import pandas as pd\n",
    "import numpy as np\n",
    "from unidecode import unidecode\n",
    "import re\n",
    "#from dataprep.eda import creat_report"
   ]
  },
  {
   "cell_type": "code",
   "execution_count": 3,
   "id": "799850be",
   "metadata": {},
   "outputs": [],
   "source": [
    "ds_total = pd.read_csv(\"natal2021.csv\") #load dataset"
   ]
  },
  {
   "cell_type": "code",
   "execution_count": null,
   "id": "d9c90c8e",
   "metadata": {},
   "outputs": [
    {
     "name": "stderr",
     "output_type": "stream",
     "text": [
      "C:\\Users\\Danilo\\AppData\\Local\\Programs\\Python\\Python310\\lib\\site-packages\\pandas\\core\\indexing.py:1732: SettingWithCopyWarning: \n",
      "A value is trying to be set on a copy of a slice from a DataFrame\n",
      "\n",
      "See the caveats in the documentation: https://pandas.pydata.org/pandas-docs/stable/user_guide/indexing.html#returning-a-view-versus-a-copy\n",
      "  self._setitem_single_block(indexer, value, name)\n",
      "C:\\Users\\Danilo\\AppData\\Local\\Programs\\Python\\Python310\\lib\\site-packages\\pandas\\core\\indexing.py:723: SettingWithCopyWarning: \n",
      "A value is trying to be set on a copy of a slice from a DataFrame\n",
      "\n",
      "See the caveats in the documentation: https://pandas.pydata.org/pandas-docs/stable/user_guide/indexing.html#returning-a-view-versus-a-copy\n",
      "  iloc._setitem_with_indexer(indexer, value, self.name)\n"
     ]
    }
   ],
   "source": [
    "#########################################\n",
    "##Retirar, apenas para testes\n",
    "for i in range(int(ds_total['CUSTOMER_ID'].count()/1000)):\n",
    "    ds = ds_total.iloc[i * 1000:i * 1000 + 1000]\n",
    "    #REMOVER ESPAÇOS\n",
    "    for index, row in ds.iterrows():\n",
    "        ds.loc[index, 'CUSTOMER_ID'] = str.strip(row['CUSTOMER_ID'])\n",
    "        ds.loc[index, 'CITY'] = str.strip(row['CITY'])\n",
    "        ds.loc[index, 'PHONE'] = str.strip(row['PHONE'])\n",
    "    #CRIAÇÃO DA COLUNA CITY_ASCII\n",
    "    ds = ds.assign(CITY_ASCII=np.nan) #Create new column\n",
    "    for index, row in ds.iterrows():\n",
    "        ds.loc[index, 'CITY_ASCII'] = unidecode(row['CITY']).upper()\n",
    "    #Phone remover não números\n",
    "    for index, row in ds.iterrows():\n",
    "        ds.loc[index, 'PHONE'] = re.sub('[^0-9]','',row['PHONE'])\n",
    "    \n",
    "    ds.to_csv('out '+str(i)+ '.csv', index = False, encoding='utf-8')\n"
   ]
  }
 ],
 "metadata": {
  "kernelspec": {
   "display_name": "Python 3 (ipykernel)",
   "language": "python",
   "name": "python3"
  },
  "language_info": {
   "codemirror_mode": {
    "name": "ipython",
    "version": 3
   },
   "file_extension": ".py",
   "mimetype": "text/x-python",
   "name": "python",
   "nbconvert_exporter": "python",
   "pygments_lexer": "ipython3",
   "version": "3.10.1"
  }
 },
 "nbformat": 4,
 "nbformat_minor": 5
}
